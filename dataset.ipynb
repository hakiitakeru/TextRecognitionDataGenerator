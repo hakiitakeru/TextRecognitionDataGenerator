{
 "cells": [
  {
   "cell_type": "code",
   "execution_count": 1,
   "metadata": {},
   "outputs": [
    {
     "name": "stderr",
     "output_type": "stream",
     "text": [
      "/Users/hakiitakeru/opt/miniforge3/envs/logops/lib/python3.9/site-packages/tqdm/auto.py:21: TqdmWarning: IProgress not found. Please update jupyter and ipywidgets. See https://ipywidgets.readthedocs.io/en/stable/user_install.html\n",
      "  from .autonotebook import tqdm as notebook_tqdm\n"
     ]
    }
   ],
   "source": [
    "import createUtils as utils\n",
    "from trdg.generators.from_strings import GeneratorFromStrings\n",
    "import matplotlib.pyplot as plt\n",
    "from IPython.display import display\n",
    "import glob"
   ]
  },
  {
   "attachments": {},
   "cell_type": "markdown",
   "metadata": {},
   "source": [
    "# データのダウンロードと文節処理"
   ]
  },
  {
   "cell_type": "code",
   "execution_count": 19,
   "metadata": {},
   "outputs": [],
   "source": [
    "# train, val, testから選ぶ\n",
    "mode = 'train'"
   ]
  },
  {
   "cell_type": "code",
   "execution_count": null,
   "metadata": {},
   "outputs": [],
   "source": [
    "# tensorflow_datasetsからwikiデータを引っ張ってくる\n",
    "wiki_train = utils.download_wiki(mode)"
   ]
  },
  {
   "cell_type": "code",
   "execution_count": null,
   "metadata": {},
   "outputs": [],
   "source": [
    "# 前処理と文節処理\n",
    "bunsetsu_list = utils.create_bunsetsu_list(wiki_train)"
   ]
  },
  {
   "cell_type": "code",
   "execution_count": null,
   "metadata": {},
   "outputs": [],
   "source": [
    "# データを保存するなら実行\n",
    "with open('raw_data/wiki/'+mode+'_bunsetsu.pkl', 'wb') as f:\n",
    "  pickle.dump(bunsetsu_list, f)"
   ]
  },
  {
   "attachments": {},
   "cell_type": "markdown",
   "metadata": {},
   "source": [
    "# table.txtの作成"
   ]
  },
  {
   "cell_type": "code",
   "execution_count": null,
   "metadata": {},
   "outputs": [],
   "source": [
    "with open('raw_data/wiki/train_bunsetsu.pkl', 'rb') as f:\n",
    "  train_list = f.load()\n",
    "with open('raw_data/wiki/val_bunsetsu.pkl', 'rb') as f:\n",
    "  val_list = f.load()\n",
    "with open('raw_data/wiki/test_bunsetsu.pkl', 'rb') as f:\n",
    "  test_list = f.load()\n",
    "  \n",
    "table_list = utils.create_table(train_list, val_list, test_list)\n",
    "\n",
    "with open('dataset/table_wiki.txt', 'w') as f:\n",
    "  f.write('\\n'.join(table_list))"
   ]
  },
  {
   "attachments": {},
   "cell_type": "markdown",
   "metadata": {},
   "source": [
    "# 画像を作成する\n",
    "fonts(フォントのパス), width(文字の太さ), colors(文字の色), background(背景)をリストで渡すとランダムな組み合わせの画像を生成できる"
   ]
  },
  {
   "cell_type": "code",
   "execution_count": 20,
   "metadata": {},
   "outputs": [],
   "source": [
    "bunsetsu_list = ['あいうえお', 'かきくけこ'] # 文節リスト\n",
    "fonts = glob.glob('trdg/fonts/*') # ヒラギノゴシック, タカオ明朝, MS 明朝\n",
    "width = [0, 1] # 細目と太め\n",
    "colors = [\"#282828\", \"#1a0dab\", \"#ff0000\", \"#ffa500\"] # 黒、青、赤、オレンジ\n",
    "background = [0, 1] # ガウスノイズと白\n",
    "output_path = \"dataset/\"+mode"
   ]
  },
  {
   "cell_type": "code",
   "execution_count": 24,
   "metadata": {},
   "outputs": [],
   "source": [
    "i = 0\n",
    "ann = []\n",
    "digits = len(str(len(bunsetsu_list)))\n",
    "\n",
    "generator = GeneratorFromStrings(\n",
    "  bunsetsu_list,\n",
    "  fonts = fonts,\n",
    "  count = len(bunsetsu_list)*(len(fonts)+len(width)+len(background)),\n",
    "  stroke_width = width,\n",
    "  text_color = colors,\n",
    "  background_type = background\n",
    ")"
   ]
  },
  {
   "cell_type": "code",
   "execution_count": 25,
   "metadata": {},
   "outputs": [
    {
     "data": {
      "text/plain": [
       "1"
      ]
     },
     "execution_count": 25,
     "metadata": {},
     "output_type": "execute_result"
    }
   ],
   "source": [
    "digits"
   ]
  },
  {
   "cell_type": "code",
   "execution_count": null,
   "metadata": {},
   "outputs": [],
   "source": [
    "# 例を表示する\n",
    "for img, lbl in generator:\n",
    "  path = 'dataset/sample/word_'+str(i).zfill(digits+1)+'.jpg'\n",
    "  img.save(path)\n",
    "  display(img)\n",
    "  i += 1"
   ]
  },
  {
   "cell_type": "code",
   "execution_count": null,
   "metadata": {},
   "outputs": [],
   "source": [
    "mode = \"train\"\n",
    "with open('raw_data/wiki/'+mode+'_bunsetsu.pkl', 'rb') as f:\n",
    "  bunsetsu_list = f.load()"
   ]
  },
  {
   "cell_type": "code",
   "execution_count": null,
   "metadata": {},
   "outputs": [],
   "source": [
    "fonts = glob.glob('trdg/fonts/*')\n",
    "width = [0, 1]\n",
    "colors = [\"#282828\", \"#1a0dab\", \"#ff0000\", \"#ffa500\"]\n",
    "background = [0, 1]\n",
    "output_path = \"dataset/\"+mode"
   ]
  },
  {
   "cell_type": "code",
   "execution_count": null,
   "metadata": {},
   "outputs": [],
   "source": [
    "# utilの関数で画像を作成\n",
    "utils.generate_image(bunsetsu_list,\n",
    "                     output_path,\n",
    "                     fonts,\n",
    "                     width,\n",
    "                     colors,\n",
    "                     background,\n",
    "                     mode)"
   ]
  }
 ],
 "metadata": {
  "kernelspec": {
   "display_name": "logops",
   "language": "python",
   "name": "python3"
  },
  "language_info": {
   "codemirror_mode": {
    "name": "ipython",
    "version": 3
   },
   "file_extension": ".py",
   "mimetype": "text/x-python",
   "name": "python",
   "nbconvert_exporter": "python",
   "pygments_lexer": "ipython3",
   "version": "3.9.16"
  },
  "orig_nbformat": 4,
  "vscode": {
   "interpreter": {
    "hash": "22a4ee398460b0db2df97bc0ab57b4a667d0bdac3868fcda5e7c76ca686b69aa"
   }
  }
 },
 "nbformat": 4,
 "nbformat_minor": 2
}
